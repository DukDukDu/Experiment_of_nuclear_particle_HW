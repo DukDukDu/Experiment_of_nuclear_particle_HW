{
 "cells": [
  {
   "cell_type": "markdown",
   "metadata": {},
   "source": [
    "# 修改comment\n",
    "\n",
    "- 改的很好，可以多利用markdown对程序进行说明，比使用//更加清晰明了"
   ]
  },
  {
   "cell_type": "markdown",
   "metadata": {},
   "source": [
    "对取数函数进行定义（根据助教老师的意见，将代码整合为一个文件，并对函数做出了适当的精简）"
   ]
  },
  {
   "cell_type": "code",
   "execution_count": 1,
   "metadata": {},
   "outputs": [
    {
     "name": "stderr",
     "output_type": "stream",
     "text": [
      "UsageError: Line magic function `%jsroot` not found.\n"
     ]
    }
   ],
   "source": [
    "%jsroot on"
   ]
  },
  {
   "cell_type": "code",
   "execution_count": null,
   "metadata": {},
   "outputs": [],
   "source": [
    "TGraph* GetdEdxLise(string elossfile,int A)\n",
    "{\n",
    "  ifstream in(elossfile);//读入LISE软件生成的数据文件\n",
    "  if(!in.is_open()){     //文件不存在时\n",
    "    cout<<\"Data File: \"<<elossfile<< \" does not exist!\"<<endl;\n",
    "    return 0;\n",
    "  }\n",
    "  auto *g=new TGraph;//定义新的二维散点图\n",
    "  string ss;\n",
    "  double e, dedx;//因为我的文件只有两列（为了节省读入时间），因此设置两个变量就足够了\n",
    "  \n",
    "  getline(in, ss);//读入第一行文字避免循环时将字符读入到变量中\n",
    "  int i=0;\n",
    "\n",
    "  while(!in.eof())\n",
    "    {\n",
    "      in >> e >> dedx;\n",
    "      getline(in,ss);//读取每一行剩余的数据，避免将空格或无用字符放入变量中\n",
    "\n",
    "      if(in.eof()) break;//避免最后一个重复读取\n",
    "      \n",
    "      g->SetPoint(i++, e*A,dedx);//添加数据点到图中，能量单位为MeV/u，需乘以核子数 A  注意！！！这里将dedx的单位设为MeV/微米\n",
    "    }\n",
    "    \n",
    "  in.close();\n",
    "  return g;\n",
    "}"
   ]
  },
  {
   "cell_type": "code",
   "execution_count": null,
   "metadata": {},
   "outputs": [],
   "source": [
    "//绘制碳12和质子的能量损失曲线对比图\n",
    "\n",
    "TCanvas *loss_curve=new TCanvas;\n",
    "string elossfile1=\"c12_h2o.txt\", elossfile2=\"p_h2o.txt\";\n",
    "TGraph *g_c12=GetdEdxLise(elossfile1,12);\n",
    "TGraph *g_p=GetdEdxLise(elossfile2,1);\n",
    "\n",
    "loss_curve->SetLogy();\n",
    "loss_curve->SetLogx();\n",
    "\n",
    "g_c12->SetTitle(\"dE/dx(MeV/mm) vs. MeV for 12C(green) and proton(red) in water\");//设定图的标题\n",
    "g_c12->SetLineColor(kGreen);\n",
    "g_c12->SetMaximum(1e3);\n",
    "g_c12->SetMinimum(1e-1);\n",
    "g_c12->Draw();\n",
    "\n",
    "g_p->SetLineColor(kRed);\n",
    "g_p->Draw(\"same\");\n",
    "\n",
    "loss_curve->Draw();\n",
    "\n"
   ]
  },
  {
   "cell_type": "markdown",
   "metadata": {},
   "source": [
    "以下定义的函数为质子在水中的能量损失本领的取数函数"
   ]
  },
  {
   "cell_type": "code",
   "execution_count": null,
   "metadata": {},
   "outputs": [],
   "source": [
    "double take_data(string filename, int A, double x){\n",
    "\n",
    "    TGraph *p_h2o = GetdEdxLise(filename, A);\n",
    "    \n",
    "    double de_dx_p = p_h2o->Eval(x, 0, \"S\"); //差值函数返回任意x对应的y值，因为能损函数光滑性比较好，因此option选取S\n",
    "\n",
    "    return de_dx_p;\n",
    "    \n",
    "}\n"
   ]
  },
  {
   "cell_type": "markdown",
   "metadata": {},
   "source": [
    "从x=0mm处反推能量。根据助教老师提出的意见，对求能量的函数进行了一定的修改，让其bargg peak位于127mm处"
   ]
  },
  {
   "cell_type": "code",
   "execution_count": null,
   "metadata": {},
   "outputs": [],
   "source": [
    "double get_energy(string file, int A){\n",
    "    \n",
    "    double getE = 0.;\n",
    "    int get_n0 = 12700;\n",
    "    \n",
    "    for (int i = 0; i < 1e5; i++){//此循环为了求得bragg peak所在位置，再用第二个循环从127mm处反推0mm处的能量\n",
    "\n",
    "        double E_loss;\n",
    "        E_loss = take_data(file, A, getE);\n",
    "        \n",
    "        getE = getE + 10*take_data(file, A, getE);\n",
    "\n",
    "        if (take_data(file, A, getE) < E_loss) break;\n",
    "\n",
    "    }\n",
    "\n",
    "    for(int i1 = 0; i1 < get_n0; i1++){\n",
    "\n",
    "        getE = getE + 10*take_data(file, A, getE);\n",
    "    }\n",
    "\n",
    "    return getE;\n",
    "}\n",
    "    "
   ]
  },
  {
   "cell_type": "markdown",
   "metadata": {},
   "source": [
    "# 固定定步长deltaX"
   ]
  },
  {
   "cell_type": "code",
   "execution_count": null,
   "metadata": {},
   "outputs": [],
   "source": [
    "//一些初始值的定义\n",
    "string pf = \"p_h2o.txt\", cf = \"c12_h2o.txt\";\n",
    "TGraph *p_h2o = new TGraph;\n",
    "TGraph *c12_h2o = new TGraph;\n",
    "\n",
    "TCanvas *c1 = new TCanvas(\"c1\", \" \", 800, 600);\n",
    "\n",
    "double E_p = get_energy(pf, 1), E_c = get_energy(cf, 12);//由get_energy函数得到的平均核子能量\n",
    "int n1 = 15000, n2 = 31000;\n",
    "\n",
    "cout << E_p << \" \" << E_c << endl; "
   ]
  },
  {
   "cell_type": "code",
   "execution_count": null,
   "metadata": {},
   "outputs": [],
   "source": [
    "//对质子进行循环\n",
    "for (int i = 0; i < n1; i++){\n",
    "        \n",
    "        E_p = E_p - take_data(pf, 1, E_p)*10;//为了使循环加快，于是选取了10倍的值\n",
    "        double x = i*0.01;\n",
    "        \n",
    "        if (E_p > 0.) p_h2o->SetPoint(i , x, take_data(pf, 1, E_p)*1000);\n",
    "\n",
    "        if( E_p < 0. ) {\n",
    "            p_h2o->SetPoint(i, x, 0);\n",
    "            break;//在能量小于0时结束循环\n",
    "        }\n",
    "    }"
   ]
  },
  {
   "cell_type": "code",
   "execution_count": null,
   "metadata": {},
   "outputs": [],
   "source": [
    "//对碳12进行循环\n",
    "for (int j = 0; j < n2; j++){\n",
    "\n",
    "        E_c = E_c - take_data(cf, 12, E_c)*10;//同上\n",
    "        double y = j*0.01;\n",
    "        \n",
    "        if (E_c> 0.) c12_h2o->SetPoint(j, y, take_data(cf, 12, E_c)*1000);\n",
    "\n",
    "        if( E_c < 0.) {\n",
    "            c12_h2o->SetPoint(j, y, 0);\n",
    "            break;\n",
    "        };\n",
    "    }\n"
   ]
  },
  {
   "cell_type": "code",
   "execution_count": null,
   "metadata": {},
   "outputs": [],
   "source": [
    "//绘制图像\n",
    "    c1->SetLogy();\n",
    "\n",
    "    p_h2o->SetMarkerStyle(0);\n",
    "    p_h2o->SetLineColor(kGreen);\n",
    "//设置轴坐标 \n",
    "    p_h2o->GetXaxis()->SetTitle(\"mm\");\n",
    "    p_h2o->GetYaxis()->SetTitle(\"dE/dx(Mev/mm)\");\n",
    "    p_h2o->SetTitle(\"proton in H_{2}O(green) and C^{12} in H_{2}O(red)\");//添加标题\n",
    "    p_h2o->GetXaxis()->SetLimits(0,150);\n",
    "    p_h2o->SetLineWidth(2);\n",
    "    p_h2o->SetMaximum(1e3);\n",
    "    p_h2o->SetMinimum(1e-1);\n",
    "    p_h2o->Draw(\"AL\");\n",
    "\n",
    "    c12_h2o->SetLineColor(kRed);\n",
    "    c12_h2o->SetLineWidth(2);\n",
    "    c12_h2o->Draw(\"same\");\n",
    "\n",
    "//对x=127mm进行标注，使图像更加直观\n",
    "    double x[4] = {127., 127., 127., 127.}, y[4] = {0., 10., 100., 1000.};\n",
    "    TGraph *v_line = new TGraph(4, x, y);\n",
    "       \n",
    "    v_line->SetLineColor(kBlack);\n",
    "    v_line->SetLineWidth(3);\n",
    "    //v_line->Draw(\"Lsame\"); \n",
    "\n",
    " //尝试在图上加图例，但是颜色没搞对，于是注释掉了\n",
    "    TLegend *legend = new TLegend(0.1, 0.8, 0.3, 0.9);\n",
    "    legend->AddEntry(p_h2o, \"proton in H_{2}O\");\n",
    "    legend->AddEntry(c12_h2o, \"C^{12} in H_{2}O\");\n",
    "    legend->Draw(\"same\");\n",
    "\n",
    "    c1->Draw();"
   ]
  },
  {
   "cell_type": "markdown",
   "metadata": {},
   "source": [
    "# 变更步长delta X"
   ]
  },
  {
   "cell_type": "code",
   "execution_count": null,
   "metadata": {},
   "outputs": [],
   "source": [
    "//对之前写入的数据进行清理\n",
    "p_h2o->Clear();\n",
    "c12_h2o->Clear();\n",
    "c1->Clear();\n",
    "double x1=0., x2=0.;\n",
    "\n",
    "E_p = 133.122, E_c = 3022.31;\n",
    "\n",
    "//对质子进行循环\n",
    "for (int i1 = 0; i1 < n2; i1++){\n",
    "        \n",
    "        if(E_p > 30.) {\n",
    "\n",
    "            E_p = E_p - take_data(pf, 1, E_p)*10;\n",
    "            x1 = x1+0.01;\n",
    "        }//根据能损曲线做出估计，在能量高于30时采取步长为10微米，在能量低于30时采取步长为1微米\n",
    "        else {\n",
    "\n",
    "            E_p = E_p - take_data(pf, 1, E_p);\n",
    "            x1 = x1+0.001;\n",
    "        }\n",
    "        //变步长的意义是，在de/dx变化较为平缓的时候可以将deltaX设置大一些，\n",
    "        //而在de/dx变化较为剧烈的地方将deltaX的变化设置的较小一些，这样可以节省运行时间，并且得到较为准确的结果。\n",
    "        \n",
    "        if(E_p >0.) p_h2o->SetPoint(i1 , x1, take_data(pf, 1, E_p)*1000);\n",
    "\n",
    "        if( E_p < 0. ) {\n",
    "            \n",
    "            p_h2o->SetPoint(i1, x1, 0);\n",
    "            break;\n",
    "        }//避免将能量取为负值\n",
    "    }\n",
    "\n"
   ]
  },
  {
   "cell_type": "code",
   "execution_count": null,
   "metadata": {},
   "outputs": [],
   "source": [
    "//对碳12进行循环\n",
    "for (int j1 = 0; j1 < n2; j1++){\n",
    "\n",
    "        if(E_c > 1000.) {\n",
    "\n",
    "            E_c = E_c - take_data(cf, 12, E_c)*10;\n",
    "            x2 = x2+0.01;\n",
    "        }//根据能损曲线估计，在能量高于1000时采取步长为10微米，在能量低于1000时采取步长为1微米\n",
    "        else {\n",
    "\n",
    "            E_c = E_c - take_data(cf, 12, E_c);\n",
    "            x2 = x2+0.001;\n",
    "        }\n",
    "        //理由同上\n",
    "    \n",
    "        if(E_c > 0.) c12_h2o->SetPoint(j1, x2, take_data(cf, 12, E_c)*1000);\n",
    "\n",
    "        if( E_c < 0.) {\n",
    "            \n",
    "            c12_h2o->SetPoint(j1, x2, 0);\n",
    "            break;\n",
    "        }//避免将能量取为负值\n",
    "    }"
   ]
  },
  {
   "cell_type": "code",
   "execution_count": null,
   "metadata": {},
   "outputs": [],
   "source": [
    "//画图\n",
    "\n",
    "c1->SetLogy();\n",
    "\n",
    "    p_h2o->SetMarkerStyle(0);\n",
    "    p_h2o->SetLineColor(kGreen);\n",
    "//设置轴坐标 \n",
    "    p_h2o->GetXaxis()->SetTitle(\"mm\");\n",
    "    p_h2o->GetYaxis()->SetTitle(\"dE/dx(Mev/mm)\");\n",
    "    p_h2o->SetTitle(\"proton in H_{2}O(green) and C^{12} in H_{2}O(red)\");//添加标题\n",
    "    p_h2o->GetXaxis()->SetLimits(0,150);\n",
    "    p_h2o->SetLineWidth(2);\n",
    "    p_h2o->SetMaximum(1e3);\n",
    "    p_h2o->SetMinimum(1e-1);\n",
    "    p_h2o->Draw(\"AL\");\n",
    "\n",
    "    c12_h2o->SetLineColor(kRed);\n",
    "    c12_h2o->SetLineWidth(2);\n",
    "    c12_h2o->Draw(\"same\");\n",
    "\n",
    "//对x=127mm进行标注，使图像更加直观\n",
    "    v_line->SetLineColor(kBlack);\n",
    "    v_line->SetLineWidth(3);\n",
    "    //v_line->Draw(\"Lsame\"); \n",
    "\n",
    "    c1->Draw();"
   ]
  },
  {
   "cell_type": "markdown",
   "metadata": {},
   "source": [
    "# 固定步长deltaE"
   ]
  },
  {
   "cell_type": "code",
   "execution_count": null,
   "metadata": {},
   "outputs": [],
   "source": [
    "    TGraph *p_h2o_de = new TGraph;\n",
    "    TGraph *c12_h2o_de = new TGraph;\n",
    "\n",
    "    TCanvas *c1_de = new TCanvas(\"c1_de\", \" \", 800, 600);\n",
    "\n",
    "    double E_p_de = 133.122, E_c_de = 3022.31, deltaE1 = 0.01, deltaE2 = 0.01;//由get_energy得到平均核子能量，对固定了能量步长进行设定，值为0.01\n",
    "    double x_de, y_de;\n",
    "\n",
    "    int n_de1 = 15000, n_de2 = 310000;\n",
    "//对质子进行循环\n",
    "    for (int i = 0 ; i < n_de1 ; i++){\n",
    "\n",
    "        E_p_de = E_p_de - deltaE1 ;\n",
    "        x_de = x_de+deltaE1/take_data(pf, 1, E_p_de);//固定能量步长，对坐标x进行累加\n",
    "        \n",
    "        if (E_p_de > 0.) p_h2o_de->SetPoint(i, x_de/1e3, take_data(pf, 1, E_p_de)*1e3);//因为最初dedx的单位是MeV/微米，所以x轴坐标需要除以1e3\n",
    "\n",
    "        if (E_p_de < 0.) {\n",
    "            \n",
    "            p_h2o_de->SetPoint(i, x_de/1e3, 0);\n",
    "            break;\n",
    "        }\n",
    "    }\n",
    "\n",
    "//对碳12进行循环（变步长）    \n",
    "    for (int j = 0; j < n_de2; j++){\n",
    "\n",
    "        if (E_c_de > 1000) {//能量大于1000时选取大步长，小于1000时选取小步长\n",
    "            \n",
    "            E_c_de = E_c_de - 10*deltaE2;\n",
    "            y_de = y_de + 10*deltaE2/take_data(cf, 12, E_c_de);\n",
    "        }\n",
    "        \n",
    "        else {\n",
    "            \n",
    "            E_c_de = E_c_de - deltaE2;\n",
    "            y_de = y_de + deltaE2/take_data(cf, 12, E_c_de);\n",
    "        }\n",
    "        \n",
    "        if (E_c_de > 0.) c12_h2o_de->SetPoint(j, y_de/1e3, take_data(cf, 12, E_c_de)*1e3);//同上\n",
    "        \n",
    "        if (E_c_de < 0.) {\n",
    "            \n",
    "            c12_h2o_de->SetPoint(j, y_de/1e3, 0);\n",
    "            break;\n",
    "        }\n",
    "    }\n",
    "//图像绘制    \n",
    "    c1_de->SetLogy();\n",
    "    p_h2o_de->SetMarkerStyle(0);\n",
    "    p_h2o_de->SetLineColor(kGreen);\n",
    "    p_h2o_de->GetXaxis()->SetTitle(\"mm\");\n",
    "    p_h2o_de->GetYaxis()->SetTitle(\"dE/dx(Mev/mm)\");\n",
    "    p_h2o_de->SetTitle(\"proton in H_{2}O(green) and C^{12} in H_{2}O(red)\");\n",
    "    p_h2o_de->GetXaxis()->SetLimits(0,200);\n",
    "    p_h2o_de->SetLineWidth(2);\n",
    "    p_h2o_de->SetMaximum(1e3);\n",
    "    p_h2o_de->SetMinimum(1e-1);\n",
    "    p_h2o_de->Draw(\"AL\");\n",
    "\n",
    "    c12_h2o_de->SetLineColor(kRed);\n",
    "    c12_h2o_de->SetLineWidth(2);\n",
    "    c12_h2o_de->Draw(\"same\");\n",
    "    \n",
    "    c1_de->Draw();\n"
   ]
  },
  {
   "cell_type": "markdown",
   "metadata": {},
   "source": [
    "# 讨论：\n",
    "\n",
    "步长的选取应该满足适当的原则，如果选取太小则会导致循环时间过长，如果选取过大则不能反映出真实的能量变化情况，选取值时应该遵从在此区间内y值变化不能过大的原则，这样才能迭代出正确的结果；如果步长设置的过大，就会使能量趋于0的时候de/dx出现严重偏差，出现曲线上偏的情况。\n",
    "\n",
    "变步长的好处：能够根据de/dx的变化适当调整步长，在节省运行时间的情况下还可以与实际情况更加接近，有一个明显的例子，如果我选取0.001mm步长，那么结果当然会很好，但是可见的运算成本也会上升。但如果采用变步长，在de/dx变化较缓的地方取大步长，而在变化剧烈的地方取小步长，这样就可以时间与效果兼顾。\n",
    "\n",
    "对阶梯状结果的思考：对于我的迭代来说，在能量较大时de/dx的变化相对较缓，因此在与x作图时在一定区间内会呈现出线性函数的关系，因此呈现出一级一级的阶梯状，当能量较小时，de/dx变化较急，因此台阶的长度也在缩短，在x将要到127mm处，短台阶连接成为一条较光滑的曲线了。"
   ]
  },
  {
   "cell_type": "code",
   "execution_count": null,
   "metadata": {},
   "outputs": [],
   "source": [
    "c1_de->Clear();\n",
    "\n",
    "c12_h2o->SetLineColor(kGreen);\n",
    "c12_h2o->GetXaxis()->SetLimits(126.96, 127.05);\n",
    "c12_h2o->Draw();\n",
    "c12_h2o_de->Draw(\"same\");\n",
    "\n",
    "c1_de->Draw();"
   ]
  },
  {
   "cell_type": "markdown",
   "metadata": {},
   "source": [
    "将用变deltaE步长和变deltax步长的曲线绘制在一张图上，可以看出，两个曲线的形状大致相同，只是峰值所处的位置有所不同，但也所差不大，在0.01mm的量级。可以看出用deltax方法画出的峰值所处的位置更深，我认为这是选取固定的变量不同，循环误差导致的。"
   ]
  }
 ],
 "metadata": {
  "kernelspec": {
   "display_name": "ROOTC++",
   "language": "python",
   "name": "root"
  },
  "language_info": {
   "codemirror_mode": {
    "name": "ipython",
    "version": 3
   },
   "file_extension": ".py",
   "mimetype": "text/x-python",
   "name": "python",
   "nbconvert_exporter": "python",
   "pygments_lexer": "ipython3",
   "version": "3.11.3"
  }
 },
 "nbformat": 4,
 "nbformat_minor": 4
}
