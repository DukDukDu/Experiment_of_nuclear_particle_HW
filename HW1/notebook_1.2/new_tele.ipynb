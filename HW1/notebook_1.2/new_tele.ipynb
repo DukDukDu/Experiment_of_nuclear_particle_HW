{
 "cells": [
  {
   "cell_type": "markdown",
   "metadata": {},
   "source": [
    "# 定义取数获得的Graph"
   ]
  },
  {
   "cell_type": "code",
   "execution_count": 1,
   "metadata": {},
   "outputs": [],
   "source": [
    "TGraph* getdedx(string filename, int A){\n",
    "\n",
    "    ifstream in(filename);\n",
    "\n",
    "    auto *g = new TGraph;\n",
    "    string s;\n",
    "    double e, dedx;\n",
    "\n",
    "    getline(in, s);\n",
    "    int i = 0;\n",
    "\n",
    "    while(!in.eof()){\n",
    "\n",
    "        in >> e >> dedx;\n",
    "        getline(in, s);\n",
    "        if(in.eof()) break;//避免最后一个重复读取\n",
    "\n",
    "        g->SetPoint(i++, e*A, dedx);//将数据填入创建的Graph，这里的de/dx单位为Mev/微米\n",
    "    }\n",
    "\n",
    "    in.close();\n",
    "    return g;\n",
    "}"
   ]
  },
  {
   "cell_type": "markdown",
   "metadata": {},
   "source": [
    "# 封装计算能损本领的函数"
   ]
  },
  {
   "cell_type": "code",
   "execution_count": 2,
   "metadata": {},
   "outputs": [],
   "source": [
    "double Z_1_8_dedx(string element, int A, double E){//设置输入量，element为元素名称\n",
    "    \n",
    "    string a = \"./data_new/\";\n",
    "    string b = \"_si.txt\";\n",
    "    string c = a + element + b ;\n",
    "    double dedx;  \n",
    "\n",
    "    TGraph *z1 = getdedx(c, A);\n",
    "    dedx = z1->Eval(E, 0, \"S\");\n",
    "    \n",
    "\n",
    "    \n",
    "    return dedx;//返回能量损失本领\n",
    "\n",
    "}"
   ]
  },
  {
   "cell_type": "markdown",
   "metadata": {},
   "source": [
    "# 封装计算粒子射程的函数\n",
    "<font size = 4>首先对返回E-x曲线和x-E曲线的Graph进行定义，然后利用这个Graph对粒子入射的距离进行计算"
   ]
  },
  {
   "cell_type": "code",
   "execution_count": 3,
   "metadata": {},
   "outputs": [],
   "source": [
    "TGraph *ex_gra(string element, int A, int choose){//设置输入量，其中choose的作用是标记返回的曲线类型\n",
    "\n",
    "    auto *graph1 = new TGraph;\n",
    "    auto *graph2 = new TGraph;\n",
    "    int n = 1e8;\n",
    "    double E_init = 1000., x = 0.;//设置能量初值，和位置初值\n",
    "\n",
    "    for (int i = 0; i < n; i++){\n",
    "\n",
    "        E_init = E_init - 100*Z_1_8_dedx(element, A, E_init);//通过迭代求出能量为0时的射程\n",
    "        x = x + 0.1;\n",
    "        \n",
    "        //将数据填入Graph\n",
    "        graph1->SetPoint(i, E_init, x);\n",
    "        graph2->SetPoint(i, x, E_init);\n",
    "\n",
    "        if (E_init < 0) break;\n",
    "    }\n",
    "\n",
    "    if (choose == 0) return graph1;//如果choose选择0，则返回E-x曲线\n",
    "    else if (choose == 1) return graph2;//如果choose选择1，则返回x-E曲线\n",
    "    else {\n",
    "        return graph1;\n",
    "        cout << \"plz enter choose 1 or 0\" << endl;\n",
    "    }\n",
    "}"
   ]
  },
  {
   "cell_type": "code",
   "execution_count": 4,
   "metadata": {},
   "outputs": [],
   "source": [
    "double range_fun(string element, int A, double E, TGraph *g_range_fun) {\n",
    "    \n",
    "    //if(Z > 8 || Z < 1 || Z > A) cout << \"Plz enter right Z and A\" << endl;\n",
    "\n",
    "    TGraph *ele = g_range_fun;\n",
    "   \n",
    "    return (ele->Eval(0, 0, \"S\"))-(ele->Eval(E, 0, \"S\"));//通过E=0时对应的x值减去输入E对应的x值即为射程\n",
    "\n",
    "}"
   ]
  },
  {
   "cell_type": "markdown",
   "metadata": {},
   "source": [
    "# 封装能损计算函数\n",
    "<font size = 4>由上面的函数可以得到E-x和x-E曲线，由E-x曲线可以求得x0,用x0加上探测器厚度dx可以得到x'。再用x-E曲线可以求得x'对应的E'。E-E'即为能量的损失。如果射程小于探测器厚度，那么全部能量都损失掉了。"
   ]
  },
  {
   "cell_type": "code",
   "execution_count": 5,
   "metadata": {},
   "outputs": [],
   "source": [
    "double de_thick(string element, int A, double E, double thickness, TGraph *g1_de_thick, TGraph *g2_de_thick){\n",
    "    \n",
    "    double e_loss;\n",
    "\n",
    "    if (range_fun(element, A, E, g1_de_thick) <= thickness ) {//如果射程小于厚度则损失所有能量\n",
    "\n",
    "        e_loss = E;\n",
    "        //cout << \"Lose all energy\" << endl;\n",
    "    }\n",
    "\n",
    "    else {\n",
    "\n",
    "        TGraph *e_x_gra = g1_de_thick;//E-x曲线\n",
    "        TGraph *x_e_gra = g2_de_thick;//x-E曲线\n",
    "\n",
    "        double x0, x_prime, E_prime;\n",
    "\n",
    "        x0 = e_x_gra->Eval(E, 0, \"S\");\n",
    "        E_prime = x_e_gra->Eval(x0+thickness, 0, \"S\");//求E'\n",
    "\n",
    "        e_loss = E - E_prime;//能量损失\n",
    "    }\n",
    "\n",
    "    return e_loss;\n",
    "\n",
    "}"
   ]
  },
  {
   "cell_type": "markdown",
   "metadata": {},
   "source": [
    "# 定义望远镜法用的函数\n",
    "<font size = 4>该函数可以产生root文件并绘制图像，产生root文件比较费时所以运行该文本时请注释掉！！！"
   ]
  },
  {
   "cell_type": "code",
   "execution_count": 6,
   "metadata": {},
   "outputs": [],
   "source": [
    "void new_tele(){\n",
    "    /*该注释段即为root文件产生的方法因为比较消耗资源所有注释掉，相应的root文件已经上传\n",
    "    double de1, de2, de3;\n",
    "    TRandom3 *ran = new TRandom3(0);\n",
    "    TFile *file = new TFile(\"telescope.root\",\"RECREATE\"); //产生新的root file以及tree\n",
    "    TTree *tree = new TTree(\"tree\", \"Ran_Events\");\n",
    "\n",
    "    tree->Branch(\"de1\", &de1, \"de1/D\");\n",
    "    tree->Branch(\"de2\", &de2, \"de2/D\");\n",
    "    tree->Branch(\"de3\", &de3, \"de3/D\");\n",
    "\n",
    "    for(int j = 0; j < 1000; j ++){\n",
    "\n",
    "        int Z = ceil(ran->Uniform(0, 8)); //随机产生Z值\n",
    "        string res;\n",
    "        stringstream ss;\n",
    "        ss << Z, ss >> res;  //将Z转化为字符串\n",
    "        \n",
    "        int A = 2*Z + ceil(ran->Uniform(-2, 2)); //随机产生A值\n",
    "\n",
    "        auto *e_x_he = new TGraph;\n",
    "        e_x_he->Clear();\n",
    "        e_x_he = ex_gra(res, A, 0);\n",
    "        auto *x_e_he = new TGraph;\n",
    "        x_e_he->Clear();\n",
    "        x_e_he = ex_gra(res, A, 1);\n",
    "\n",
    "        for(int i =0; i < 1000; i++){//计算三个能损\n",
    "            \n",
    "            double E1_he = 35*A*ran->Rndm();\n",
    "            de1 = de_thick(res, A, E1_he, 1, e_x_he, x_e_he);\n",
    "        \n",
    "            double E2_he = E1_he - de1;\n",
    "            de2 = de_thick(res, A, E2_he, 0.5, e_x_he, x_e_he);\n",
    "        \n",
    "            double E3_he = E2_he - de2;\n",
    "            de3 = de_thick(res, A, E3_he, 1, e_x_he, x_e_he);\n",
    "\n",
    "            tree->Fill();//写入tree\n",
    "    }\n",
    "\n",
    "    }\n",
    "\n",
    "    tree->Write();\n",
    "    file->Close();\n",
    "*/\n",
    "    TFile *new_f = new TFile(\"telescope.root\", \"READ\");//读入产生好的root文件\n",
    "    TTree *new_tree = (TTree*)new_f->Get(\"tree\");\n",
    "    \n",
    "    TCanvas *c = new TCanvas(\"c\", \" \", 800, 600);\n",
    "    c->Divide(3,1);\n",
    "    \n",
    "    c->cd(1);\n",
    "    new_tree->Draw(\"de1:de2>>h1(500,0,250,1000,0,500)\", \"de2 > 0\", \"colz\");//绘制一二两块探测器能损对比\n",
    "    c->cd(2);\n",
    "    new_tree->Draw(\"de2:de3>>h2(500,0,250,500,0,250)\", \"de3 > 0\", \"colz\");//绘制二三两块探测器能损对比\n",
    "    c->cd(3);\n",
    "    new_tree->Draw(\"de1:(de1+de2+de3)>>h3(500,0,600,500,0,500)\", \"de2>0&&de3>0\", \"colz\");//绘制第一块探测器与总能损对比\n",
    "    \n",
    "    c->Draw();\n",
    "}\n"
   ]
  },
  {
   "cell_type": "code",
   "execution_count": 7,
   "metadata": {},
   "outputs": [
    {
     "data": {
      "image/png": "[encoded data removed]",
      "text/plain": [
       "<IPython.core.display.Image object>"
      ]
     },
     "metadata": {},
     "output_type": "display_data"
    }
   ],
   "source": [
    "new_tele();"
   ]
  },
  {
   "cell_type": "markdown",
   "metadata": {},
   "source": [
    "<font size = 4> 可以看到很明显的对应于不同元素以及不同同位素的曲线，可以鉴别出粒子种类。另外直接使用root文件跑大大节省代码运行时间。"
   ]
  },
  {
   "cell_type": "code",
   "execution_count": null,
   "metadata": {},
   "outputs": [],
   "source": []
  }
 ],
 "metadata": {
  "kernelspec": {
   "display_name": "ROOT C++",
   "language": "c++",
   "name": "root"
  },
  "language_info": {
   "codemirror_mode": "text/x-c++src",
   "file_extension": ".C",
   "mimetype": " text/x-c++src",
   "name": "c++"
  }
 },
 "nbformat": 4,
 "nbformat_minor": 4
}
